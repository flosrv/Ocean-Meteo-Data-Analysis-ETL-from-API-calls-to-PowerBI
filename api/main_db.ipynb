{
 "cells": [
  {
   "cell_type": "code",
   "execution_count": null,
   "metadata": {},
   "outputs": [],
   "source": [
    "from fastapi import FastAPI\n",
    "from contextlib import asynccontextmanager\n",
    "from sqlalchemy import create_engine, MetaData\n",
    "import json\n",
    "# Charger les informations de connexion\n",
    "path_postgresql_creds = r\"C:\\Credentials\\postgresql_creds.json\"\n",
    "\n",
    "with open(path_postgresql_creds, 'r') as file:\n",
    "    content = json.load(file)\n",
    "    user = content[\"user\"]\n",
    "    password = content[\"password\"]\n",
    "    host = content[\"host\"]\n",
    "    port = content[\"port\"]\n",
    "\n",
    "db = \"Oceanography_ML_Project\"\n",
    "schema = \"Silver\"\n",
    "\n",
    "# Créer l'engine PostgreSQL\n",
    "engine = create_engine(f\"postgresql+psycopg2://{user}:{password}@{host}:{port}/{db}\")\n",
    "metadata = MetaData(schema=schema)\n",
    "\n",
    "@asynccontextmanager\n",
    "async def lifespan(app: FastAPI):\n",
    "    # Connexion à la base de données\n",
    "    metadata.reflect(bind=engine)\n",
    "    # Charger les tables du schéma \"Silver\"\n",
    "    app.state.tables = metadata.tables\n",
    "    yield\n",
    "    # Fermeture de la connexion à la base de données\n",
    "    app.state.tables = None\n",
    "\n",
    "# Création de l'application FastAPI avec le lifespan\n",
    "app = FastAPI(lifespan=lifespan)\n",
    "\n",
    "@app.get(\"/tables\")\n",
    "async def get_tables():\n",
    "    # Retourner les tables du schéma Silver\n",
    "    return {\"tables\": list(app.state.tables.keys())}\n"
   ]
  }
 ],
 "metadata": {
  "language_info": {
   "name": "python"
  }
 },
 "nbformat": 4,
 "nbformat_minor": 2
}
